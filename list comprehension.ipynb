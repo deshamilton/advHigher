{
 "cells": [
  {
   "cell_type": "markdown",
   "metadata": {},
   "source": [
    "[*expression* for *value* in *collection*]\n",
    "\n",
    "[*expression* for *value* in *collection if test*]\n",
    "    \n",
    "[*expression* for *value* in *collection if test1 and test2*]\n"
   ]
  },
  {
   "cell_type": "markdown",
   "metadata": {},
   "source": [
    "**Example 1.1**"
   ]
  },
  {
   "cell_type": "code",
   "execution_count": 25,
   "metadata": {},
   "outputs": [
    {
     "name": "stdout",
     "output_type": "stream",
     "text": [
      "[4, 16, 36, 64, 100, 144, 196, 256, 324, 400, 484, 576, 676, 784, 900, 1024, 1156, 1296, 1444, 1600, 1764, 1936, 2116, 2304, 2500, 2704, 2916, 3136, 3364, 3600, 3844, 4096, 4356, 4624, 4900, 5184, 5476, 5776, 6084, 6400, 6724, 7056, 7396, 7744, 8100, 8464, 8836, 9216, 9604, 10000]\n"
     ]
    }
   ],
   "source": [
    "squares = [x**2 for x in range(1,101) if x**2 % 2 == 0]\n",
    "\n",
    "print(squares)"
   ]
  },
  {
   "cell_type": "markdown",
   "metadata": {},
   "source": [
    "**Example 1.2**"
   ]
  },
  {
   "cell_type": "code",
   "execution_count": 22,
   "metadata": {},
   "outputs": [
    {
     "name": "stdout",
     "output_type": "stream",
     "text": [
      "[1, 4, 9, 5, 3, 3, 5, 9, 4, 1, 0, 1, 4, 9, 5, 3, 3, 5, 9, 4, 1, 0, 1, 4, 9, 5, 3, 3, 5, 9, 4, 1, 0, 1, 4, 9, 5, 3, 3, 5, 9, 4, 1, 0, 1, 4, 9, 5, 3, 3, 5, 9, 4, 1, 0, 1, 4, 9, 5, 3, 3, 5, 9, 4, 1, 0, 1, 4, 9, 5, 3, 3, 5, 9, 4, 1, 0, 1, 4, 9, 5, 3, 3, 5, 9, 4, 1, 0, 1, 4, 9, 5, 3, 3, 5, 9, 4, 1, 0, 1]\n"
     ]
    }
   ],
   "source": [
    "remainders = [x**2 % 11 for x in range(1,101)]\n",
    "print(remainders)"
   ]
  },
  {
   "cell_type": "markdown",
   "metadata": {},
   "source": [
    "**Example 1.3**"
   ]
  },
  {
   "cell_type": "code",
   "execution_count": 23,
   "metadata": {},
   "outputs": [
    {
     "name": "stdout",
     "output_type": "stream",
     "text": [
      "['The Hare with Amber Eyes', 'The Collected Stories of Lydia Davis']\n"
     ]
    }
   ],
   "source": [
    "books=['The Hare with Amber Eyes', 'Freedom', 'Letters to Monica',\n",
    "       'The Collected Stories of Lydia Davis','What to look for in winter',\n",
    "       'Chasing the Sun', 'Life', 'Solar', 'A History of the World in 100 Objects']\n",
    "tbooks = [book for book in books if book.startswith('T')]\n",
    "print(tbooks)"
   ]
  },
  {
   "cell_type": "markdown",
   "metadata": {},
   "source": [
    "**List of objects**"
   ]
  },
  {
   "cell_type": "code",
   "execution_count": null,
   "metadata": {},
   "outputs": [],
   "source": [
    "from dataclasses import dataclass\n",
    "@dataclass\n",
    "\n",
    "class book:\n",
    "    title: str\n",
    "    author: str \n",
    "    ISBN: str\n",
    "    price: float\n",
    "\n",
    "books = [book('The Hare with Amber Eyes','Edmund de Waal','978-009953955',4.48),  \n",
    "         book('Freedom','Jonathan Franzen','978-0007269761',4.49),  \n",
    "         book('Letters to Monica','Philip Larkin','978-0571239092',12.08),  \n",
    "         book('The Collected Stories of Lydia Davis','Lydia Davis','978-0241950036',8.44),\n",
    "         book('What to look for in winter','Candia McWilliam','978-0099539537',5.69),\n",
    "         book('Chasing the Sun','Richard Cohen','978-1416526124',4.99),\n",
    "         book('Life','Keith Richards','978-0297854395',10.89),\n",
    "         book('Solar','Ian McEwan','978-0099549024',4.89),\n",
    "         book('A History of the World in 100 Objects','Neil MacGregor','978-1846144134',16.69)]  \n",
    "\n",
    "for x in books:  \n",
    "   print(x.title, ' by ', x.author)  \n",
    "\n"
   ]
  },
  {
   "cell_type": "markdown",
   "metadata": {},
   "source": [
    "**Example 2.1**"
   ]
  },
  {
   "cell_type": "code",
   "execution_count": null,
   "metadata": {},
   "outputs": [],
   "source": [
    "# create a list of books which cost less than £5\n",
    "under5=[book.title for book in books if book.price < 5]\n",
    "print('\\n',under5)"
   ]
  },
  {
   "cell_type": "markdown",
   "metadata": {},
   "source": [
    "**Example 2.2**"
   ]
  },
  {
   "cell_type": "code",
   "execution_count": null,
   "metadata": {},
   "outputs": [],
   "source": [
    "from dataclasses import dataclass\n",
    "\n",
    "@dataclass\n",
    "\n",
    "class mark:\n",
    "    name: str\n",
    "    mark1: int\n",
    "    mark2: int\n",
    "    mark3: int\n",
    "    \n",
    "marks = [mark('Peters',24,32,29),\n",
    "            mark('Adams',44,38,37),\n",
    "            mark('Francis',29,30,29)]\n",
    "\n",
    "# create a list of the average mark in three tests\n",
    "avgMark=[round((x.mark1 + x.mark2 + x.mark3)/3,1) for x in marks]\n",
    "print(avgMark)"
   ]
  },
  {
   "cell_type": "markdown",
   "metadata": {},
   "source": [
    "**Example 2.3**"
   ]
  },
  {
   "cell_type": "code",
   "execution_count": null,
   "metadata": {},
   "outputs": [],
   "source": [
    "from dataclasses import dataclass\n",
    "@dataclass\n",
    "class pupil: \n",
    "    name: str\n",
    "    gender: str\n",
    "    age: int\n",
    "    \n",
    "pupils=[pupil('Alice Andrews', 'F',13),\n",
    "        pupil('Ben Brown', 'M',12),\n",
    "        pupil('Carol Cairns', 'F',14),\n",
    "        pupil('Derek Davis', 'M',13),\n",
    "        pupil('Emily Edwards', 'F',15),\n",
    "        pupil('Felicity Fisher', 'F',13)]\n",
    "\n",
    "# create a list of fremal pupils between the ages of 12 and 14\n",
    "group=[x.name for x in pupils if x.gender == 'F' and (x.age >= 12 and x.age <= 14)]\n",
    "print(group)"
   ]
  },
  {
   "cell_type": "code",
   "execution_count": null,
   "metadata": {},
   "outputs": [],
   "source": [
    "    "
   ]
  },
  {
   "cell_type": "code",
   "execution_count": null,
   "metadata": {},
   "outputs": [],
   "source": []
  },
  {
   "cell_type": "code",
   "execution_count": 15,
   "metadata": {},
   "outputs": [
    {
     "name": "stdout",
     "output_type": "stream",
     "text": [
      "['Dundee', 'Edinburgh', 'Dunfermline', 'Glasgow']\n"
     ]
    }
   ],
   "source": [
    "myList = ['Dundee', 'Edinburgh','Glasgow']\n",
    "myList.insert(2,'Dunfermline')\n",
    "\n",
    "print(myList)"
   ]
  },
  {
   "cell_type": "code",
   "execution_count": 17,
   "metadata": {},
   "outputs": [
    {
     "name": "stdout",
     "output_type": "stream",
     "text": [
      "['Glasgow', 'Edinburgh', 'Dunfermline', 'Dundee']\n"
     ]
    }
   ],
   "source": [
    "myList.sort(reverse=True)\n",
    "print(myList)"
   ]
  },
  {
   "cell_type": "code",
   "execution_count": null,
   "metadata": {},
   "outputs": [],
   "source": []
  }
 ],
 "metadata": {
  "kernelspec": {
   "display_name": "Python 3",
   "language": "python",
   "name": "python3"
  },
  "language_info": {
   "codemirror_mode": {
    "name": "ipython",
    "version": 3
   },
   "file_extension": ".py",
   "mimetype": "text/x-python",
   "name": "python",
   "nbconvert_exporter": "python",
   "pygments_lexer": "ipython3",
   "version": "3.7.9"
  }
 },
 "nbformat": 4,
 "nbformat_minor": 4
}
